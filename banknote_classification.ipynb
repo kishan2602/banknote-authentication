from sklearn.svm import SVC as svc

svc_object = svc(kernel='poly', degree=8) 

svc_object.fit(train_features, train_labels)

predicted_labels = svc_object.predict(test_features) 
print(classification_report(test_labels, predicted_labels)) 

print(confusion_matrix(test_labels, predicted_labels)) 

print(accuracy_score(test_labels, predicted_labels))  
The output is as follows:
precision    recall  f1-score   support

           0       1.00      0.95      0.98       153

           1       0.95      1.00      0.97       122

   micro avg       0.97      0.97      0.97       275

   macro avg       0.97      0.98      0.97       275

weighted avg       0.98      0.97      0.97       275

[[146   7]

 [  0 122]]

0.9745454545454545
